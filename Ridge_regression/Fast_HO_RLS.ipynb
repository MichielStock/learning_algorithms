{
 "metadata": {
  "name": "",
  "signature": "sha256:ca67e729030a2770b13a1fe2caf30afa6af9614bde68a19c9727fc6d6bfe4b50"
 },
 "nbformat": 3,
 "nbformat_minor": 0,
 "worksheets": [
  {
   "cells": [
    {
     "cell_type": "code",
     "collapsed": false,
     "input": [
      "import sympy as sp\n",
      "from sympy.utilities.lambdify import lambdify\n",
      "sp.init_printing()\n",
      "# commands starting with % are IPython commands"
     ],
     "language": "python",
     "metadata": {},
     "outputs": [],
     "prompt_number": 1
    },
    {
     "cell_type": "markdown",
     "metadata": {},
     "source": [
      "##Relevance\n",
      "For RLS and Kronecker RLS there already exist efficient algorithms to perform LOOCV (for pairs for the latter). Less well-known is performing hold-out of blocks larger than one. Here we prove the existence of such algorithms for the two-step RLS for the four diferent settings."
     ]
    },
    {
     "cell_type": "markdown",
     "metadata": {},
     "source": [
      "HO for RLS\n",
      "==========\n",
      "\n",
      "Suppose we have calculated the regularized inverse of a kernel matrix: $(K+\\lambda I)^{-1}$ and can divide this into block matrices (must not be done explicitly due to eigenvalue decomposition).\n",
      "\n",
      "The kernel matrix $K$ can be divided in blocks as:\n",
      "\n",
      "$$\n",
      "K = U\\Lambda U^T=\n",
      "\\begin{bmatrix}\n",
      "  K_{11} & K_{12} \\\\\n",
      "  K_{12} ^T & K_{22} \n",
      " \\end{bmatrix}\n",
      "$$\n",
      "\n",
      "and \n",
      "\n",
      "$$\n",
      "\\tilde{K} = \n",
      "\\begin{bmatrix}\n",
      "U_{1} \\\\\n",
      "U_{2}\n",
      "\\end{bmatrix}\n",
      "(\\Lambda +\\lambda I)^{-1}\n",
      "\\begin{bmatrix}\n",
      "U_{1} \\\\\n",
      "U_{2}\n",
      "\\end{bmatrix}^T\n",
      "$$\n",
      "\n",
      "So to find the hold out with minimal computation we need $\\tilde{K}_{11}$ (i.e. learning with only the first block)."
     ]
    },
    {
     "cell_type": "code",
     "collapsed": false,
     "input": [
      "n, m, p, k = sp.symbols('n, m, p, k')\n",
      "l = sp.symbols('lambda')\n",
      "Yho = sp.MatrixSymbol('\\mathbf{Y}^{HO}', m, k)\n",
      "Yhi = sp.MatrixSymbol('\\mathbf{Y}^{HI}', n, k)\n",
      "Utr = sp.MatrixSymbol('\\mathbf{U}_{1}', n, p)\n",
      "Uval = sp.MatrixSymbol('\\mathbf{U}_{2}', m, p)\n",
      "Lambda = sp.MatrixSymbol('\\mathbf{\\Lambda}', p, p)\n",
      "\n",
      "U = sp.BlockMatrix([[Utr], [Uval]])"
     ],
     "language": "python",
     "metadata": {},
     "outputs": [],
     "prompt_number": 2
    },
    {
     "cell_type": "code",
     "collapsed": false,
     "input": [
      "K = U * Lambda * U.T\n",
      "sp.block_collapse(K)"
     ],
     "language": "python",
     "metadata": {},
     "outputs": [
      {
       "latex": [
        "$$\\left[\\begin{matrix}\\mathbf{U}_{{1}} \\mathbf{\\Lambda} \\mathbf{U}_{{1}}^T & \\mathbf{U}_{{1}} \\mathbf{\\Lambda} \\mathbf{U}_{{2}}^T\\\\\\mathbf{U}_{{2}} \\mathbf{\\Lambda} \\mathbf{U}_{{1}}^T & \\mathbf{U}_{{2}} \\mathbf{\\Lambda} \\mathbf{U}_{{2}}^T\\end{matrix}\\right]$$"
       ],
       "metadata": {},
       "output_type": "pyout",
       "png": "[encoded data removed]",
       "prompt_number": 3,
       "text": [
        "\u23a1                                              T                              \n",
        "\u23a2\\mathbf{U}_{1}\u22c5\\mathbf{\\Lambda}\u22c5\\mathbf{U}_{1}   \\mathbf{U}_{1}\u22c5\\mathbf{\\Lamb\n",
        "\u23a2                                                                             \n",
        "\u23a2                                              T                              \n",
        "\u23a3\\mathbf{U}_{2}\u22c5\\mathbf{\\Lambda}\u22c5\\mathbf{U}_{1}   \\mathbf{U}_{2}\u22c5\\mathbf{\\Lamb\n",
        "\n",
        "                  T\u23a4\n",
        "da}\u22c5\\mathbf{U}_{2} \u23a5\n",
        "                   \u23a5\n",
        "                  T\u23a5\n",
        "da}\u22c5\\mathbf{U}_{2} \u23a6"
       ]
      }
     ],
     "prompt_number": 3
    },
    {
     "cell_type": "code",
     "collapsed": false,
     "input": [
      "K_tilde_decomp = U * (Lambda + l * sp.Identity(p)).I * U.T\n",
      "K_tilde_decomp"
     ],
     "language": "python",
     "metadata": {},
     "outputs": [
      {
       "latex": [
        "$$\\left[\\begin{matrix}\\mathbf{U}_{{1}}\\\\\\mathbf{U}_{{2}}\\end{matrix}\\right] \\left(\\lambda \\mathbb{I} + \\mathbf{\\Lambda}\\right)^{-1} \\left[\\begin{matrix}\\mathbf{U}_{{1}}^T & \\mathbf{U}_{{2}}^T\\end{matrix}\\right]$$"
       ],
       "metadata": {},
       "output_type": "pyout",
       "png": "[encoded data removed]",
       "prompt_number": 4,
       "text": [
        "                                         -1 \u23a1              T                T\u23a4\n",
        "\u23a1\\mathbf{U}_{1}\u23a4\u22c5(\u03bb\u22c5I + \\mathbf{\\Lambda})  \u22c5\u23a3\\mathbf{U}_{1}   \\mathbf{U}_{2} \u23a6\n",
        "\u23a2              \u23a5                                                              \n",
        "\u23a3\\mathbf{U}_{2}\u23a6                                                              "
       ]
      }
     ],
     "prompt_number": 4
    },
    {
     "cell_type": "markdown",
     "metadata": {},
     "source": [
      "We now have $\\tilde{K}$ in block notation, taking the inverse of this results in $K + \\lambda*I$. From this we take the first block and invert it again. This corresponds to the Woordburry identity. Finally we make predictions using YHO and YHI and calculate the MSE."
     ]
    },
    {
     "cell_type": "code",
     "collapsed": false,
     "input": [
      "blockcol_K_tilde_decomp = sp.block_collapse(K_tilde_decomp.I)\n",
      "blockcol_K_tilde_decomp"
     ],
     "language": "python",
     "metadata": {},
     "outputs": [
      {
       "latex": [
        "$$\\left[\\begin{matrix}\\left(\\mathbf{U}_{{1}} \\left(\\lambda \\mathbb{I} + \\mathbf{\\Lambda}\\right)^{-1} \\mathbf{U}_{{1}}^T + -1 \\mathbf{U}_{{1}} \\left(\\lambda \\mathbb{I} + \\mathbf{\\Lambda}\\right)^{-1} \\mathbf{U}_{{2}}^T \\left(\\mathbf{U}_{{2}} \\left(\\lambda \\mathbb{I} + \\mathbf{\\Lambda}\\right)^{-1} \\mathbf{U}_{{2}}^T\\right)^{-1} \\mathbf{U}_{{2}} \\left(\\lambda \\mathbb{I} + \\mathbf{\\Lambda}\\right)^{-1} \\mathbf{U}_{{1}}^T\\right)^{-1} & \\left(-1 \\mathbf{U}_{{1}} \\left(\\lambda \\mathbb{I} + \\mathbf{\\Lambda}\\right)^{-1} \\mathbf{U}_{{1}}^T\\right)^{-1} \\mathbf{U}_{{1}} \\left(\\lambda \\mathbb{I} + \\mathbf{\\Lambda}\\right)^{-1} \\mathbf{U}_{{2}}^T \\left(\\mathbf{U}_{{2}} \\left(\\lambda \\mathbb{I} + \\mathbf{\\Lambda}\\right)^{-1} \\mathbf{U}_{{2}}^T + -1 \\mathbf{U}_{{2}} \\left(\\lambda \\mathbb{I} + \\mathbf{\\Lambda}\\right)^{-1} \\mathbf{U}_{{1}}^T \\left(\\mathbf{U}_{{1}} \\left(\\lambda \\mathbb{I} + \\mathbf{\\Lambda}\\right)^{-1} \\mathbf{U}_{{1}}^T\\right)^{-1} \\mathbf{U}_{{1}} \\left(\\lambda \\mathbb{I} + \\mathbf{\\Lambda}\\right)^{-1} \\mathbf{U}_{{2}}^T\\right)^{-1}\\\\-1 \\left(\\mathbf{U}_{{2}} \\left(\\lambda \\mathbb{I} + \\mathbf{\\Lambda}\\right)^{-1} \\mathbf{U}_{{2}}^T + -1 \\mathbf{U}_{{2}} \\left(\\lambda \\mathbb{I} + \\mathbf{\\Lambda}\\right)^{-1} \\mathbf{U}_{{1}}^T \\left(\\mathbf{U}_{{1}} \\left(\\lambda \\mathbb{I} + \\mathbf{\\Lambda}\\right)^{-1} \\mathbf{U}_{{1}}^T\\right)^{-1} \\mathbf{U}_{{1}} \\left(\\lambda \\mathbb{I} + \\mathbf{\\Lambda}\\right)^{-1} \\mathbf{U}_{{2}}^T\\right)^{-1} \\mathbf{U}_{{2}} \\left(\\lambda \\mathbb{I} + \\mathbf{\\Lambda}\\right)^{-1} \\mathbf{U}_{{1}}^T \\left(\\mathbf{U}_{{1}} \\left(\\lambda \\mathbb{I} + \\mathbf{\\Lambda}\\right)^{-1} \\mathbf{U}_{{1}}^T\\right)^{-1} & \\left(\\mathbf{U}_{{2}} \\left(\\lambda \\mathbb{I} + \\mathbf{\\Lambda}\\right)^{-1} \\mathbf{U}_{{2}}^T + -1 \\mathbf{U}_{{2}} \\left(\\lambda \\mathbb{I} + \\mathbf{\\Lambda}\\right)^{-1} \\mathbf{U}_{{1}}^T \\left(\\mathbf{U}_{{1}} \\left(\\lambda \\mathbb{I} + \\mathbf{\\Lambda}\\right)^{-1} \\mathbf{U}_{{1}}^T\\right)^{-1} \\mathbf{U}_{{1}} \\left(\\lambda \\mathbb{I} + \\mathbf{\\Lambda}\\right)^{-1} \\mathbf{U}_{{2}}^T\\right)^{-1}\\end{matrix}\\right]$$"
       ],
       "metadata": {},
       "output_type": "pyout",
       "png": "[encoded data removed]",
       "prompt_number": 5,
       "text": [
        "\u23a1                                                                             \n",
        "\u23a2                                                            \u239b                \n",
        "\u23a2                                                            \u239c                \n",
        "\u23a2                                                            \u239d\\mathbf{U}_{1}\u22c5(\n",
        "\u23a2                                                                             \n",
        "\u23a2                                                                             \n",
        "\u23a2 \u239b                                                                           \n",
        "\u23a2 \u239c                                       -1               T                  \n",
        "\u23a3-\u239d\\mathbf{U}_{2}\u22c5(\u03bb\u22c5I + \\mathbf{\\Lambda})  \u22c5\\mathbf{U}_{2}  + -\\mathbf{U}_{2}\n",
        "\n",
        "                                                                              \n",
        "                                                                              \n",
        "                       -1               T                                     \n",
        "\u03bb\u22c5I + \\mathbf{\\Lambda})  \u22c5\\mathbf{U}_{1}  + -\\mathbf{U}_{1}\u22c5(\u03bb\u22c5I + \\mathbf{\\La\n",
        "                                                                              \n",
        "                                                                              \n",
        "                                                                              \n",
        "                         -1               T \u239b                                 \n",
        "\u22c5(\u03bb\u22c5I + \\mathbf{\\Lambda})  \u22c5\\mathbf{U}_{1} \u22c5\u239d\\mathbf{U}_{1}\u22c5(\u03bb\u22c5I + \\mathbf{\\La\n",
        "\n",
        "                                                                              \n",
        "                                                                              \n",
        "      -1               T \u239b                                       -1           \n",
        "mbda})  \u22c5\\mathbf{U}_{2} \u22c5\u239d\\mathbf{U}_{2}\u22c5(\u03bb\u22c5I + \\mathbf{\\Lambda})  \u22c5\\mathbf{U}\n",
        "                                                                              \n",
        "                                                                              \n",
        "                         -1                                                   \n",
        "      -1               T\u239e                                          -1         \n",
        "mbda})  \u22c5\\mathbf{U}_{1} \u23a0  \u22c5\\mathbf{U}_{1}\u22c5(\u03bb\u22c5I + \\mathbf{\\Lambda})  \u22c5\\mathbf{\n",
        "\n",
        "                                                                   -1         \n",
        "      -1                                                          \u239e           \n",
        "    T\u239e                                          -1               T\u239f           \n",
        "_{2} \u23a0  \u22c5\\mathbf{U}_{2}\u22c5(\u03bb\u22c5I + \\mathbf{\\Lambda})  \u22c5\\mathbf{U}_{1} \u23a0           \n",
        "                                                                              \n",
        "        -1                                                                    \n",
        "       \u239e                                                                      \n",
        "      T\u239f                                          -1               T \u239b        \n",
        "U}_{2} \u23a0  \u22c5\\mathbf{U}_{2}\u22c5(\u03bb\u22c5I + \\mathbf{\\Lambda})  \u22c5\\mathbf{U}_{1} \u22c5\u239d\\mathbf{\n",
        "\n",
        "                                                                              \n",
        "                                                                              \n",
        "                                                      \u239b                       \n",
        "                                                      \u239d-\\mathbf{U}_{1}\u22c5(\u03bb\u22c5I + \n",
        "                                                                              \n",
        "                                                                              \n",
        "                                                  -1                          \n",
        "                               -1               T\u239e                            \n",
        "U}_{1}\u22c5(\u03bb\u22c5I + \\mathbf{\\Lambda})  \u22c5\\mathbf{U}_{1} \u23a0                            \n",
        "\n",
        "                                                                              \n",
        "                                    -1                                        \n",
        "                 -1               T\u239e                                          \n",
        "\\mathbf{\\Lambda})  \u22c5\\mathbf{U}_{1} \u23a0  \u22c5\\mathbf{U}_{1}\u22c5(\u03bb\u22c5I + \\mathbf{\\Lambda})\n",
        "                                                                              \n",
        "                                                                              \n",
        "                                    \u239b                                         \n",
        "                                    \u239c                                       -1\n",
        "                                    \u239d\\mathbf{U}_{2}\u22c5(\u03bb\u22c5I + \\mathbf{\\Lambda})  \n",
        "\n",
        "                                                                              \n",
        "                   \u239b                                                          \n",
        "-1               T \u239c                                       -1               T \n",
        "  \u22c5\\mathbf{U}_{2} \u22c5\u239d\\mathbf{U}_{2}\u22c5(\u03bb\u22c5I + \\mathbf{\\Lambda})  \u22c5\\mathbf{U}_{2}  \n",
        "                                                                              \n",
        "                                                                              \n",
        "                                                                              \n",
        "               T                                           -1               T \n",
        "\u22c5\\mathbf{U}_{2}  + -\\mathbf{U}_{2}\u22c5(\u03bb\u22c5I + \\mathbf{\\Lambda})  \u22c5\\mathbf{U}_{1} \u22c5\n",
        "\n",
        "                                                                              \n",
        "                                                                              \n",
        "                                          -1               T \u239b                \n",
        "+ -\\mathbf{U}_{2}\u22c5(\u03bb\u22c5I + \\mathbf{\\Lambda})  \u22c5\\mathbf{U}_{1} \u22c5\u239d\\mathbf{U}_{1}\u22c5(\n",
        "                                                                              \n",
        "                                                                              \n",
        "                                                           -1                 \n",
        "\u239b                                       -1               T\u239e                   \n",
        "\u239d\\mathbf{U}_{1}\u22c5(\u03bb\u22c5I + \\mathbf{\\Lambda})  \u22c5\\mathbf{U}_{1} \u23a0  \u22c5\\mathbf{U}_{1}\u22c5(\n",
        "\n",
        "                                                                              \n",
        "                                          -1                                  \n",
        "                       -1               T\u239e                                    \n",
        "\u03bb\u22c5I + \\mathbf{\\Lambda})  \u22c5\\mathbf{U}_{1} \u23a0  \u22c5\\mathbf{U}_{1}\u22c5(\u03bb\u22c5I + \\mathbf{\\La\n",
        "                                                                              \n",
        "                                          -1                                  \n",
        "                                         \u239e                                    \n",
        "                       -1               T\u239f                                    \n",
        "\u03bb\u22c5I + \\mathbf{\\Lambda})  \u22c5\\mathbf{U}_{2} \u23a0                                    \n",
        "\n",
        "                         -1\u23a4\n",
        "                        \u239e  \u23a5\n",
        "      -1               T\u239f  \u23a5\n",
        "mbda})  \u22c5\\mathbf{U}_{2} \u23a0  \u23a5\n",
        "                           \u23a5\n",
        "                           \u23a5\n",
        "                           \u23a5\n",
        "                           \u23a5\n",
        "                           \u23a6"
       ]
      }
     ],
     "prompt_number": 5
    },
    {
     "cell_type": "code",
     "collapsed": false,
     "input": [
      "H_HO = ((blockcol_K_tilde_decomp.blocks[0,0]).I)\n",
      "H_HO"
     ],
     "language": "python",
     "metadata": {},
     "outputs": [
      {
       "latex": [
        "$$\\mathbf{U}_{{1}} \\left(\\lambda \\mathbb{I} + \\mathbf{\\Lambda}\\right)^{-1} \\mathbf{U}_{{1}}^T + -1 \\mathbf{U}_{{1}} \\left(\\lambda \\mathbb{I} + \\mathbf{\\Lambda}\\right)^{-1} \\mathbf{U}_{{2}}^T \\left(\\mathbf{U}_{{2}} \\left(\\lambda \\mathbb{I} + \\mathbf{\\Lambda}\\right)^{-1} \\mathbf{U}_{{2}}^T\\right)^{-1} \\mathbf{U}_{{2}} \\left(\\lambda \\mathbb{I} + \\mathbf{\\Lambda}\\right)^{-1} \\mathbf{U}_{{1}}^T$$"
       ],
       "metadata": {},
       "output_type": "pyout",
       "png": "[encoded data removed]",
       "prompt_number": 6,
       "text": [
        "                                                                              \n",
        "                                       -1               T                     \n",
        "\\mathbf{U}_{1}\u22c5(\u03bb\u22c5I + \\mathbf{\\Lambda})  \u22c5\\mathbf{U}_{1}  + -\\mathbf{U}_{1}\u22c5(\u03bb\n",
        "\n",
        "                                                                              \n",
        "                      -1               T \u239b                                    \n",
        "\u22c5I + \\mathbf{\\Lambda})  \u22c5\\mathbf{U}_{2} \u22c5\u239d\\mathbf{U}_{2}\u22c5(\u03bb\u22c5I + \\mathbf{\\Lambd\n",
        "\n",
        "                      -1                                                      \n",
        "   -1               T\u239e                                          -1            \n",
        "a})  \u22c5\\mathbf{U}_{2} \u23a0  \u22c5\\mathbf{U}_{2}\u22c5(\u03bb\u22c5I + \\mathbf{\\Lambda})  \u22c5\\mathbf{U}_\n",
        "\n",
        "    \n",
        "   T\n",
        "{1} "
       ]
      }
     ],
     "prompt_number": 6
    },
    {
     "cell_type": "code",
     "collapsed": false,
     "input": [
      "Yhoo_preds_rls = Uval * Lambda * Utr.T * H_HO * Yhi\n",
      "Yhoo_preds_rls"
     ],
     "language": "python",
     "metadata": {},
     "outputs": [
      {
       "latex": [
        "$$\\mathbf{U}_{{2}} \\mathbf{\\Lambda} \\mathbf{U}_{{1}}^T \\left(\\mathbf{U}_{{1}} \\left(\\lambda \\mathbb{I} + \\mathbf{\\Lambda}\\right)^{-1} \\mathbf{U}_{{1}}^T + -1 \\mathbf{U}_{{1}} \\left(\\lambda \\mathbb{I} + \\mathbf{\\Lambda}\\right)^{-1} \\mathbf{U}_{{2}}^T \\left(\\mathbf{U}_{{2}} \\left(\\lambda \\mathbb{I} + \\mathbf{\\Lambda}\\right)^{-1} \\mathbf{U}_{{2}}^T\\right)^{-1} \\mathbf{U}_{{2}} \\left(\\lambda \\mathbb{I} + \\mathbf{\\Lambda}\\right)^{-1} \\mathbf{U}_{{1}}^T\\right) \\mathbf{Y}^{{HI}}$$"
       ],
       "metadata": {},
       "output_type": "pyout",
       "png": "[encoded data removed]",
       "prompt_number": 7,
       "text": [
        "                                                \u239b                             \n",
        "                                              T \u239c                             \n",
        "\\mathbf{U}_{2}\u22c5\\mathbf{\\Lambda}\u22c5\\mathbf{U}_{1} \u22c5\u239d\\mathbf{U}_{1}\u22c5(\u03bb\u22c5I + \\mathbf\n",
        "\n",
        "                                                                              \n",
        "          -1               T                                           -1     \n",
        "{\\Lambda})  \u22c5\\mathbf{U}_{1}  + -\\mathbf{U}_{1}\u22c5(\u03bb\u22c5I + \\mathbf{\\Lambda})  \u22c5\\mat\n",
        "\n",
        "                                                                       -1     \n",
        "          T \u239b                                       -1               T\u239e       \n",
        "hbf{U}_{2} \u22c5\u239d\\mathbf{U}_{2}\u22c5(\u03bb\u22c5I + \\mathbf{\\Lambda})  \u22c5\\mathbf{U}_{2} \u23a0  \u22c5\\mat\n",
        "\n",
        "                                                     \u239e                 \n",
        "                                   -1               T\u239f                 \n",
        "hbf{U}_{2}\u22c5(\u03bb\u22c5I + \\mathbf{\\Lambda})  \u22c5\\mathbf{U}_{1} \u23a0\u22c5\\mathbf{Y}__{HI}"
       ]
      }
     ],
     "prompt_number": 7
    },
    {
     "cell_type": "code",
     "collapsed": false,
     "input": [
      "mse_matrix = (Yhoo_preds_rls - Yho).T * (Yhoo_preds_rls - Yho)\n",
      "mse_matrix"
     ],
     "language": "python",
     "metadata": {},
     "outputs": [
      {
       "output_type": "stream",
       "stream": "stderr",
       "text": [
        "/Users/michielstock/Library/Enthought/Canopy_64bit/User/lib/python2.7/site-packages/IPython/core/formatters.py:239: FormatterWarning: Exception in image/png formatter: \n",
        "\n",
        "^\n",
        "Double superscript (at char 0), (line:1, col:1)\n",
        "  FormatterWarning,\n"
       ]
      },
      {
       "latex": [
        "$$\\left(-1 \\mathbf{Y}^{{HO}}^T + \\mathbf{Y}^{{HI}}^T \\left(\\mathbf{U}_{{1}} \\left(\\left(\\lambda \\mathbb{I} + \\mathbf{\\Lambda}\\right)^{-1}\\right)^T \\mathbf{U}_{{1}}^T + -1 \\mathbf{U}_{{1}} \\left(\\left(\\lambda \\mathbb{I} + \\mathbf{\\Lambda}\\right)^{-1}\\right)^T \\mathbf{U}_{{2}}^T \\left(\\left(\\mathbf{U}_{{2}} \\left(\\lambda \\mathbb{I} + \\mathbf{\\Lambda}\\right)^{-1} \\mathbf{U}_{{2}}^T\\right)^{-1}\\right)^T \\mathbf{U}_{{2}} \\left(\\left(\\lambda \\mathbb{I} + \\mathbf{\\Lambda}\\right)^{-1}\\right)^T \\mathbf{U}_{{1}}^T\\right) \\mathbf{U}_{{1}} \\mathbf{\\Lambda}^T \\mathbf{U}_{{2}}^T\\right) \\left(-1 \\mathbf{Y}^{{HO}} + \\mathbf{U}_{{2}} \\mathbf{\\Lambda} \\mathbf{U}_{{1}}^T \\left(\\mathbf{U}_{{1}} \\left(\\lambda \\mathbb{I} + \\mathbf{\\Lambda}\\right)^{-1} \\mathbf{U}_{{1}}^T + -1 \\mathbf{U}_{{1}} \\left(\\lambda \\mathbb{I} + \\mathbf{\\Lambda}\\right)^{-1} \\mathbf{U}_{{2}}^T \\left(\\mathbf{U}_{{2}} \\left(\\lambda \\mathbb{I} + \\mathbf{\\Lambda}\\right)^{-1} \\mathbf{U}_{{2}}^T\\right)^{-1} \\mathbf{U}_{{2}} \\left(\\lambda \\mathbb{I} + \\mathbf{\\Lambda}\\right)^{-1} \\mathbf{U}_{{1}}^T\\right) \\mathbf{Y}^{{HI}}\\right)$$"
       ],
       "metadata": {},
       "output_type": "pyout",
       "prompt_number": 8,
       "text": [
        "\u239b                                       \u239b                                     \n",
        "\u239c                                       \u239c                                     \n",
        "\u239c                 T                   T \u239c               \u239b                     \n",
        "\u239d-\\mathbf{Y}__{HO}  + \\mathbf{Y}__{HI} \u22c5\u239d\\mathbf{U}_{1}\u22c5\u239d(\u03bb\u22c5I + \\mathbf{\\Lambd\n",
        "\n",
        "                                                                              \n",
        "      T                                                               T       \n",
        "   -1\u239e                T                   \u239b                        -1\u239e        \n",
        "a})  \u23a0 \u22c5\\mathbf{U}_{1}  + -\\mathbf{U}_{1}\u22c5\u239d(\u03bb\u22c5I + \\mathbf{\\Lambda})  \u23a0 \u22c5\\mathb\n",
        "\n",
        "                                                                         T    \n",
        "          \u239b                                                           -1\u239e     \n",
        "        T \u239c\u239b                                       -1               T\u239e  \u239f     \n",
        "f{U}_{2} \u22c5\u239d\u239d\\mathbf{U}_{2}\u22c5(\u03bb\u22c5I + \\mathbf{\\Lambda})  \u22c5\\mathbf{U}_{2} \u23a0  \u23a0 \u22c5\\ma\n",
        "\n",
        "                                                         \u239e                    \n",
        "                                        T                \u239f                    \n",
        "            \u239b                        -1\u239e                T\u239f                    \n",
        "thbf{U}_{2}\u22c5\u239d(\u03bb\u22c5I + \\mathbf{\\Lambda})  \u23a0 \u22c5\\mathbf{U}_{1} \u23a0\u22c5\\mathbf{U}_{1}\u22c5\\mat\n",
        "\n",
        "                             \u239e                                                \n",
        "                             \u239f \u239b                                              \n",
        "            T               T\u239f \u239c                                              \n",
        "hbf{\\Lambda} \u22c5\\mathbf{U}_{2} \u23a0\u22c5\u239d-\\mathbf{Y}__{HO} + \\mathbf{U}_{2}\u22c5\\mathbf{\\La\n",
        "\n",
        "                                                                              \n",
        "                      \u239b                                                       \n",
        "                    T \u239c                                       -1              \n",
        "mbda}\u22c5\\mathbf{U}_{1} \u22c5\u239d\\mathbf{U}_{1}\u22c5(\u03bb\u22c5I + \\mathbf{\\Lambda})  \u22c5\\mathbf{U}_{1\n",
        "\n",
        "                                                                              \n",
        "                                                                              \n",
        " T                                           -1               T \u239b             \n",
        "}  + -\\mathbf{U}_{1}\u22c5(\u03bb\u22c5I + \\mathbf{\\Lambda})  \u22c5\\mathbf{U}_{2} \u22c5\u239d\\mathbf{U}_{2\n",
        "\n",
        "                                                                              \n",
        "                                             -1                               \n",
        "                          -1               T\u239e                                 \n",
        "}\u22c5(\u03bb\u22c5I + \\mathbf{\\Lambda})  \u22c5\\mathbf{U}_{2} \u23a0  \u22c5\\mathbf{U}_{2}\u22c5(\u03bb\u22c5I + \\mathbf{\n",
        "\n",
        "                                              \n",
        "                           \u239e                 \u239e\n",
        "         -1               T\u239f                 \u239f\n",
        "\\Lambda})  \u22c5\\mathbf{U}_{1} \u23a0\u22c5\\mathbf{Y}__{HI}\u23a0"
       ]
      }
     ],
     "prompt_number": 8
    },
    {
     "cell_type": "code",
     "collapsed": false,
     "input": [
      "import numpy as np\n",
      "import random as rd\n",
      "\n",
      "def ridge_prediction(Ktrain, Ytrain, Ktest, reg=1.0):\n",
      "    \"\"\"\n",
      "    performs a simple kernel ridge regression\n",
      "    \"\"\"\n",
      "    assert Ktrain.shape[0] == Ytrain.shape[0] == Ktest.shape[1]\n",
      "    parameters = np.linalg.inv(Ktrain + reg*np.eye(Ktrain.shape[0])).dot(Ytrain)\n",
      "    return Ktest.dot(parameters)\n",
      "\n",
      "def ridge_HOO(Ktrain, Ytrain, HOO_ind, reg=1.0):\n",
      "    '''\n",
      "    performs a holdout according to the obtained formulas\n",
      "    '''\n",
      "    assert Ktrain.shape[0] == Ytrain.shape[0]\n",
      "    E, U = np.linalg.eigh(Ktrain)\n",
      "    HI_ind = [i for i in range(Ktrain.shape[0]) if i not in HOO_ind]\n",
      "    Uval = U[HOO_ind]\n",
      "    Utrain = U[HI_ind]\n",
      "    C = np.linalg.inv((Uval /(E+reg)).dot(Uval.T))\n",
      "    B = np.dot(Utrain / (E+reg), Uval.T)\n",
      "    A = np.dot(Utrain / (E+reg), Utrain.T)\n",
      "    return Ktrain[HOO_ind][:, HI_ind].dot(A - B.dot(C).dot(B.T)).dot(Ytrain[HI_ind])"
     ],
     "language": "python",
     "metadata": {},
     "outputs": [],
     "prompt_number": 9
    },
    {
     "cell_type": "code",
     "collapsed": false,
     "input": [
      "lamb = 10.0\n",
      "X = np.random.randn(100, 50)\n",
      "K = np.dot(X, X.T)\n",
      "E, U = np.linalg.eigh(K)\n",
      "Y = np.random.rand(100, 2)\n",
      "HOO_ind = rd.sample(range(100), 10)\n",
      "HI_ind = [i for i in range(100) if i not in HOO_ind]"
     ],
     "language": "python",
     "metadata": {},
     "outputs": [],
     "prompt_number": 10
    },
    {
     "cell_type": "code",
     "collapsed": false,
     "input": [
      "Yhatho_exp = ridge_prediction(K[HI_ind][:,HI_ind], Y[HI_ind], K[HOO_ind][:, HI_ind], lamb)\n",
      "Yhatho_the = ridge_HOO(K, Y, HOO_ind, reg=lamb)\n",
      "\n",
      "np.allclose(Yhatho_exp, Yhatho_the)"
     ],
     "language": "python",
     "metadata": {},
     "outputs": [
      {
       "metadata": {},
       "output_type": "pyout",
       "prompt_number": 11,
       "text": [
        "True"
       ]
      }
     ],
     "prompt_number": 11
    },
    {
     "cell_type": "markdown",
     "metadata": {},
     "source": [
      "HO for two-step ridge regression\n",
      "================================\n",
      "\n",
      "\n",
      "For two-step ridge regression, we have two kernel matrices K and G, each with their associated eigenvalue decomposition:\n",
      "\n",
      "$$\n",
      "K = U\\Lambda U^T,\n",
      "$$\n",
      "and\n",
      "$$\n",
      "G = V \\Sigma V^T.\n",
      "$$"
     ]
    },
    {
     "cell_type": "code",
     "collapsed": false,
     "input": [
      "n, m, k, l, p, q = sp.symbols('n, m, k, l, p, q')\n",
      "l1, l2 = sp.symbols('lambda_K, lambda_G')\n",
      "\n",
      "Y11 = sp.MatrixSymbol('\\mathbf{Y}_{11}', n, k)\n",
      "Y12 = sp.MatrixSymbol('\\mathbf{Y}_{12}', n, l)\n",
      "Y21 = sp.MatrixSymbol('\\mathbf{Y}_{21}', m, k)\n",
      "Y22 = sp.MatrixSymbol('\\mathbf{Y}_{22}', m, l)\n",
      "\n",
      "U = sp.MatrixSymbol('\\mathbf{U}', n+m, p)\n",
      "U1 = sp.MatrixSymbol('\\mathbf{U}_{1}', n, p)\n",
      "U2 = sp.MatrixSymbol('\\mathbf{U}_{2}', m, p)\n",
      "Lambda = sp.MatrixSymbol('\\mathbf{\\Lambda}', p, p)\n",
      "\n",
      "V = sp.MatrixSymbol('\\mathbf{V}', k+l, q)\n",
      "V1 = sp.MatrixSymbol('\\mathbf{V}_{1}', k, q)\n",
      "V2 = sp.MatrixSymbol('\\mathbf{V}_{2}', l, q)\n",
      "Sigma = sp.MatrixSymbol('\\mathbf{\\Sigma}', q, q)"
     ],
     "language": "python",
     "metadata": {},
     "outputs": [],
     "prompt_number": 12
    },
    {
     "cell_type": "code",
     "collapsed": false,
     "input": [
      "Y = sp.BlockMatrix([[Y11, Y12], [Y21, Y22]])\n",
      "\n",
      "U_blocks = sp.BlockMatrix([[U1], [U2]])\n",
      "V_blocks = sp.BlockMatrix([[V1], [V2]])\n",
      "\n",
      "K = U * Lambda * U.T\n",
      "G = V * Sigma * V.T\n",
      "\n",
      "K_tilde = U_blocks * (Lambda + sp.Identity(p) * l1).I * U_blocks.T\n",
      "G_tilde = V_blocks * (Sigma + sp.Identity(q) * l2).I * V_blocks.T"
     ],
     "language": "python",
     "metadata": {},
     "outputs": [],
     "prompt_number": 13
    },
    {
     "cell_type": "code",
     "collapsed": false,
     "input": [],
     "language": "python",
     "metadata": {},
     "outputs": [],
     "prompt_number": 13
    },
    {
     "cell_type": "markdown",
     "metadata": {},
     "source": [
      "## For setting 1\n",
      "Suppose we already know $Y^{-HOO}$ and use this to make a new model using this data"
     ]
    },
    {
     "cell_type": "code",
     "collapsed": false,
     "input": [
      "Y_min_HO = sp.MatrixSymbol('\\mathbf{Y}^{-HOO}', m, l)\n",
      "labels_HO = sp.BlockMatrix([[Y11, Y12], [Y21, Y_min_HO]])\n",
      "\n",
      "Yhat = U2 * Lambda * (Lambda + sp.Identity(p) * l1).I * U_blocks.T * Y * V_blocks * Sigma * (Sigma + sp.Identity(q) * l2).I * V2.T\n",
      "Yres_HOO_hat = U2 * Lambda * (Lambda + sp.Identity(p) * l1).I * U_blocks.T * (labels_HO - Y) * V_blocks * Sigma * (Sigma + sp.Identity(q) * l2).I * V2.T"
     ],
     "language": "python",
     "metadata": {},
     "outputs": [],
     "prompt_number": 14
    },
    {
     "cell_type": "code",
     "collapsed": false,
     "input": [
      "equal_to_Y_min_HO = sp.block_collapse(Yres_HOO_hat + Yhat)\n",
      "equal_to_Y_min_HO  # is equal to Y_min_HO => isolate!"
     ],
     "language": "python",
     "metadata": {},
     "outputs": [
      {
       "latex": [
        "$$\\mathbf{U}_{{2}} \\mathbf{\\Lambda} \\left(\\left(\\left(\\lambda_{K} \\mathbb{I} + \\mathbf{\\Lambda}\\right)^{-1} \\mathbf{U}_{{1}}^T \\mathbf{Y}_{{11}} + \\left(\\lambda_{K} \\mathbb{I} + \\mathbf{\\Lambda}\\right)^{-1} \\mathbf{U}_{{2}}^T \\mathbf{Y}_{{21}}\\right) \\mathbf{V}_{{1}} + \\left(\\left(\\lambda_{K} \\mathbb{I} + \\mathbf{\\Lambda}\\right)^{-1} \\mathbf{U}_{{1}}^T \\mathbf{Y}_{{12}} + \\left(\\lambda_{K} \\mathbb{I} + \\mathbf{\\Lambda}\\right)^{-1} \\mathbf{U}_{{2}}^T \\mathbf{Y}_{{22}}\\right) \\mathbf{V}_{{2}}\\right) \\mathbf{\\Sigma} \\left(\\lambda_{G} \\mathbb{I} + \\mathbf{\\Sigma}\\right)^{-1} \\mathbf{V}_{{2}}^T + \\mathbf{U}_{{2}} \\mathbf{\\Lambda} \\left(\\lambda_{K} \\mathbb{I} + \\mathbf{\\Lambda}\\right)^{-1} \\mathbf{U}_{{2}}^T \\left(-1 \\mathbf{Y}_{{22}} + \\mathbf{Y}^{{-HOO}}\\right) \\mathbf{V}_{{2}} \\mathbf{\\Sigma} \\left(\\lambda_{G} \\mathbb{I} + \\mathbf{\\Sigma}\\right)^{-1} \\mathbf{V}_{{2}}^T$$"
       ],
       "metadata": {},
       "output_type": "pyout",
       "png": "[encoded data removed]",
       "prompt_number": 15,
       "text": [
        "                                \u239b\u239b                          -1               T\n",
        "\\mathbf{U}_{2}\u22c5\\mathbf{\\Lambda}\u22c5\u239d\u239d(\u03bb_K\u22c5I + \\mathbf{\\Lambda})  \u22c5\\mathbf{U}_{1} \n",
        "\n",
        "                                             -1               T               \n",
        "\u22c5\\mathbf{Y}_{11} + (\u03bb_K\u22c5I + \\mathbf{\\Lambda})  \u22c5\\mathbf{U}_{2} \u22c5\\mathbf{Y}_{21\n",
        "\n",
        " \u239e                  \u239b                          -1               T             \n",
        "}\u23a0\u22c5\\mathbf{V}_{1} + \u239d(\u03bb_K\u22c5I + \\mathbf{\\Lambda})  \u22c5\\mathbf{U}_{1} \u22c5\\mathbf{Y}_{\n",
        "\n",
        "                                -1               T                \u239e           \n",
        "12} + (\u03bb_K\u22c5I + \\mathbf{\\Lambda})  \u22c5\\mathbf{U}_{2} \u22c5\\mathbf{Y}_{22}\u23a0\u22c5\\mathbf{V}\n",
        "\n",
        "    \u239e                                          -1               T             \n",
        "_{2}\u23a0\u22c5\\mathbf{\\Sigma}\u22c5(\u03bb_G\u22c5I + \\mathbf{\\Sigma})  \u22c5\\mathbf{V}_{2}  + \\mathbf{U}\n",
        "\n",
        "                                                -1               T            \n",
        "_{2}\u22c5\\mathbf{\\Lambda}\u22c5(\u03bb_K\u22c5I + \\mathbf{\\Lambda})  \u22c5\\mathbf{U}_{2} \u22c5(-\\mathbf{Y\n",
        "\n",
        "                                                                              \n",
        "}_{22} + \\mathbf{Y}__{-HOO})\u22c5\\mathbf{V}_{2}\u22c5\\mathbf{\\Sigma}\u22c5(\u03bb_G\u22c5I + \\mathbf{\\\n",
        "\n",
        "       -1               T\n",
        "Sigma})  \u22c5\\mathbf{V}_{2} "
       ]
      }
     ],
     "prompt_number": 15
    },
    {
     "cell_type": "markdown",
     "metadata": {},
     "source": [
      "This can be written in the form($B$ and $C$ are symmetric):\n",
      "\n",
      "$$\n",
      "Y^{-HOO} = A + BY^{-HOO}C,\n",
      "$$\n",
      "\n",
      "which is a Sylvester equation:\n",
      "\n",
      "$$\n",
      "A = Y^{-HOO} - BY^{-HOO}C.\n",
      "$$\n",
      "\n",
      "\n",
      "Here, \n",
      "\n",
      "$$\n",
      "A = U_2((\\lambda_K I + \\Lambda)^{-1}U_1^\\intercal Y_{11} + (\\lambda_K I+ \\Lambda)^{-1}U_2^\\intercal Y_{21})V_1 +((\\lambda_K I +\\Lambda)^{-1}U_1^\\intercal Y_{12} +\\\\ (\\lambda_K I + \\Lambda)^{-1} U_2^\\intercal Y_{22})V_2)\\Sigma(\\lambda_G I + \\Sigma)^{-1}V_2^\\intercal,\n",
      "$$\n",
      "\n",
      "$$\n",
      "B = U_2 \\Lambda (\\lambda_K I + \\Lambda )^{-1} U_2^\\intercal\n",
      "$$\n",
      "and\n",
      "$$\n",
      "C = V_2 \\Sigma(\\lambda_G I +\\Sigma)^{-1} V_2^\\intercal.\n",
      "$$\n",
      "\n",
      "Suppose $\\mathbf{y} = Vec(Y^{-HOO})$, than this reduces to a simple systems of equations:\n",
      "\n",
      "$$\n",
      "(I - (C \\otimes B) )\\mathbf{y} = Vec(A),\n",
      "$$\n",
      "a system that can be solved with a time complexity of $\\mathcal{O}(m^3l^3)$. Using eigenvalue decomposition of $B$ and $C$ this can even be done with a time complexity of $\\mathcal{O}(m^3+l^3)$."
     ]
    },
    {
     "cell_type": "markdown",
     "metadata": {},
     "source": [
      "## For setting 2\n",
      "remove some rows completely"
     ]
    },
    {
     "cell_type": "code",
     "collapsed": false,
     "input": [
      "Bu = sp.block_collapse(K_tilde.I).blocks[0,0].I\n",
      "Y_hoo_set_2 = U2 * Lambda * U1.T * Bu * sp.BlockMatrix([[Y11, Y12]]) * (V * Sigma * (Sigma + sp.Identity(q) * l2).I * V.T)"
     ],
     "language": "python",
     "metadata": {},
     "outputs": [],
     "prompt_number": 16
    },
    {
     "cell_type": "code",
     "collapsed": false,
     "input": [
      "Y_hoo_set_2"
     ],
     "language": "python",
     "metadata": {},
     "outputs": [
      {
       "latex": [
        "$$\\mathbf{U}_{{2}} \\mathbf{\\Lambda} \\mathbf{U}_{{1}}^T \\left(\\mathbf{U}_{{1}} \\left(\\lambda_{K} \\mathbb{I} + \\mathbf{\\Lambda}\\right)^{-1} \\mathbf{U}_{{1}}^T + -1 \\mathbf{U}_{{1}} \\left(\\lambda_{K} \\mathbb{I} + \\mathbf{\\Lambda}\\right)^{-1} \\mathbf{U}_{{2}}^T \\left(\\mathbf{U}_{{2}} \\left(\\lambda_{K} \\mathbb{I} + \\mathbf{\\Lambda}\\right)^{-1} \\mathbf{U}_{{2}}^T\\right)^{-1} \\mathbf{U}_{{2}} \\left(\\lambda_{K} \\mathbb{I} + \\mathbf{\\Lambda}\\right)^{-1} \\mathbf{U}_{{1}}^T\\right) \\left[\\begin{matrix}\\mathbf{Y}_{{11}} & \\mathbf{Y}_{{12}}\\end{matrix}\\right] \\mathbf{V} \\mathbf{\\Sigma} \\left(\\lambda_{G} \\mathbb{I} + \\mathbf{\\Sigma}\\right)^{-1} \\mathbf{V}^T$$"
       ],
       "metadata": {},
       "output_type": "pyout",
       "png": "[encoded data removed]",
       "prompt_number": 17,
       "text": [
        "                                                \u239b                             \n",
        "                                              T \u239c                             \n",
        "\\mathbf{U}_{2}\u22c5\\mathbf{\\Lambda}\u22c5\\mathbf{U}_{1} \u22c5\u239d\\mathbf{U}_{1}\u22c5(\u03bb_K\u22c5I + \\math\n",
        "\n",
        "                                                                              \n",
        "            -1               T                                             -1 \n",
        "bf{\\Lambda})  \u22c5\\mathbf{U}_{1}  + -\\mathbf{U}_{1}\u22c5(\u03bb_K\u22c5I + \\mathbf{\\Lambda})  \u22c5\n",
        "\n",
        "                                                                             -\n",
        "              T \u239b                                         -1               T\u239e \n",
        "\\mathbf{U}_{2} \u22c5\u239d\\mathbf{U}_{2}\u22c5(\u03bb_K\u22c5I + \\mathbf{\\Lambda})  \u22c5\\mathbf{U}_{2} \u23a0 \n",
        "\n",
        "1                                                            \u239e                \n",
        "                                           -1               T\u239f                \n",
        " \u22c5\\mathbf{U}_{2}\u22c5(\u03bb_K\u22c5I + \\mathbf{\\Lambda})  \u22c5\\mathbf{U}_{1} \u23a0\u22c5[\\mathbf{Y}_{11\n",
        "\n",
        "                                                                              \n",
        "                                                                        -1    \n",
        "}  \\mathbf{Y}_{12}]\u22c5\\mathbf{V}\u22c5\\mathbf{\\Sigma}\u22c5(\u03bb_G\u22c5I + \\mathbf{\\Sigma})  \u22c5\\ma\n",
        "\n",
        "        \n",
        "       T\n",
        "thbf{V} "
       ]
      }
     ],
     "prompt_number": 17
    },
    {
     "cell_type": "markdown",
     "metadata": {},
     "source": [
      "## For setting 3\n",
      "remove some columns completely"
     ]
    },
    {
     "cell_type": "code",
     "collapsed": false,
     "input": [
      "Bv = sp.block_collapse(G_tilde.I).blocks[0,0].I\n",
      "Y_hoo_set_3 = U * Lambda * (Lambda + sp.Identity(p) * l1).I * U.T * sp.BlockMatrix([[Y11], [Y21]]) * Bv * V1 * Sigma * V2.T"
     ],
     "language": "python",
     "metadata": {},
     "outputs": [],
     "prompt_number": 18
    },
    {
     "cell_type": "code",
     "collapsed": false,
     "input": [
      "Y_hoo_set_3"
     ],
     "language": "python",
     "metadata": {},
     "outputs": [
      {
       "latex": [
        "$$\\mathbf{U} \\mathbf{\\Lambda} \\left(\\lambda_{K} \\mathbb{I} + \\mathbf{\\Lambda}\\right)^{-1} \\mathbf{U}^T \\left[\\begin{matrix}\\mathbf{Y}_{{11}}\\\\\\mathbf{Y}_{{21}}\\end{matrix}\\right] \\left(\\mathbf{V}_{{1}} \\left(\\lambda_{G} \\mathbb{I} + \\mathbf{\\Sigma}\\right)^{-1} \\mathbf{V}_{{1}}^T + -1 \\mathbf{V}_{{1}} \\left(\\lambda_{G} \\mathbb{I} + \\mathbf{\\Sigma}\\right)^{-1} \\mathbf{V}_{{2}}^T \\left(\\mathbf{V}_{{2}} \\left(\\lambda_{G} \\mathbb{I} + \\mathbf{\\Sigma}\\right)^{-1} \\mathbf{V}_{{2}}^T\\right)^{-1} \\mathbf{V}_{{2}} \\left(\\lambda_{G} \\mathbb{I} + \\mathbf{\\Sigma}\\right)^{-1} \\mathbf{V}_{{1}}^T\\right) \\mathbf{V}_{{1}} \\mathbf{\\Sigma} \\mathbf{V}_{{2}}^T$$"
       ],
       "metadata": {},
       "output_type": "pyout",
       "png": "[encoded data removed]",
       "prompt_number": 19,
       "text": [
        "                                                                              \n",
        "                                                      -1           T          \n",
        "\\mathbf{U}\u22c5\\mathbf{\\Lambda}\u22c5(\u03bb_K\u22c5I + \\mathbf{\\Lambda})  \u22c5\\mathbf{U} \u22c5\u23a1\\mathbf{\n",
        "                                                                     \u23a2        \n",
        "                                                                     \u23a3\\mathbf{\n",
        "\n",
        "         \u239b                                                                    \n",
        "         \u239c                                        -1               T          \n",
        "Y}_{11}\u23a4\u22c5\u239d\\mathbf{V}_{1}\u22c5(\u03bb_G\u22c5I + \\mathbf{\\Sigma})  \u22c5\\mathbf{V}_{1}  + -\\mathb\n",
        "       \u23a5                                                                      \n",
        "Y}_{21}\u23a6                                                                      \n",
        "\n",
        "                                                                              \n",
        "                                  -1               T \u239b                        \n",
        "f{V}_{1}\u22c5(\u03bb_G\u22c5I + \\mathbf{\\Sigma})  \u22c5\\mathbf{V}_{2} \u22c5\u239d\\mathbf{V}_{2}\u22c5(\u03bb_G\u22c5I + \n",
        "                                                                              \n",
        "                                                                              \n",
        "\n",
        "                                   -1                                         \n",
        "                -1               T\u239e                                           \n",
        "\\mathbf{\\Sigma})  \u22c5\\mathbf{V}_{2} \u23a0  \u22c5\\mathbf{V}_{2}\u22c5(\u03bb_G\u22c5I + \\mathbf{\\Sigma})\n",
        "                                                                              \n",
        "                                                                              \n",
        "\n",
        "                  \u239e                                               \n",
        "-1               T\u239f                                              T\n",
        "  \u22c5\\mathbf{V}_{1} \u23a0\u22c5\\mathbf{V}_{1}\u22c5\\mathbf{\\Sigma}\u22c5\\mathbf{V}_{2} \n",
        "                                                                  \n",
        "                                                                  "
       ]
      }
     ],
     "prompt_number": 19
    },
    {
     "cell_type": "markdown",
     "metadata": {},
     "source": [
      "## For setting 4\n",
      "remove both a column- and a row-block"
     ]
    },
    {
     "cell_type": "code",
     "collapsed": false,
     "input": [
      "Y_hoo_set_4 = U2 * Lambda * U1.T * Bu * Y11 * Bv * V1 * Sigma * V2.T"
     ],
     "language": "python",
     "metadata": {},
     "outputs": [],
     "prompt_number": 20
    },
    {
     "cell_type": "code",
     "collapsed": false,
     "input": [
      "Y_hoo_set_4"
     ],
     "language": "python",
     "metadata": {},
     "outputs": [
      {
       "latex": [
        "$$\\mathbf{U}_{{2}} \\mathbf{\\Lambda} \\mathbf{U}_{{1}}^T \\left(\\mathbf{U}_{{1}} \\left(\\lambda_{K} \\mathbb{I} + \\mathbf{\\Lambda}\\right)^{-1} \\mathbf{U}_{{1}}^T + -1 \\mathbf{U}_{{1}} \\left(\\lambda_{K} \\mathbb{I} + \\mathbf{\\Lambda}\\right)^{-1} \\mathbf{U}_{{2}}^T \\left(\\mathbf{U}_{{2}} \\left(\\lambda_{K} \\mathbb{I} + \\mathbf{\\Lambda}\\right)^{-1} \\mathbf{U}_{{2}}^T\\right)^{-1} \\mathbf{U}_{{2}} \\left(\\lambda_{K} \\mathbb{I} + \\mathbf{\\Lambda}\\right)^{-1} \\mathbf{U}_{{1}}^T\\right) \\mathbf{Y}_{{11}} \\left(\\mathbf{V}_{{1}} \\left(\\lambda_{G} \\mathbb{I} + \\mathbf{\\Sigma}\\right)^{-1} \\mathbf{V}_{{1}}^T + -1 \\mathbf{V}_{{1}} \\left(\\lambda_{G} \\mathbb{I} + \\mathbf{\\Sigma}\\right)^{-1} \\mathbf{V}_{{2}}^T \\left(\\mathbf{V}_{{2}} \\left(\\lambda_{G} \\mathbb{I} + \\mathbf{\\Sigma}\\right)^{-1} \\mathbf{V}_{{2}}^T\\right)^{-1} \\mathbf{V}_{{2}} \\left(\\lambda_{G} \\mathbb{I} + \\mathbf{\\Sigma}\\right)^{-1} \\mathbf{V}_{{1}}^T\\right) \\mathbf{V}_{{1}} \\mathbf{\\Sigma} \\mathbf{V}_{{2}}^T$$"
       ],
       "metadata": {},
       "output_type": "pyout",
       "png": "[encoded data removed]",
       "prompt_number": 21,
       "text": [
        "                                                \u239b                             \n",
        "                                              T \u239c                             \n",
        "\\mathbf{U}_{2}\u22c5\\mathbf{\\Lambda}\u22c5\\mathbf{U}_{1} \u22c5\u239d\\mathbf{U}_{1}\u22c5(\u03bb_K\u22c5I + \\math\n",
        "\n",
        "                                                                              \n",
        "            -1               T                                             -1 \n",
        "bf{\\Lambda})  \u22c5\\mathbf{U}_{1}  + -\\mathbf{U}_{1}\u22c5(\u03bb_K\u22c5I + \\mathbf{\\Lambda})  \u22c5\n",
        "\n",
        "                                                                             -\n",
        "              T \u239b                                         -1               T\u239e \n",
        "\\mathbf{U}_{2} \u22c5\u239d\\mathbf{U}_{2}\u22c5(\u03bb_K\u22c5I + \\mathbf{\\Lambda})  \u22c5\\mathbf{U}_{2} \u23a0 \n",
        "\n",
        "1                                                            \u239e                \n",
        "                                           -1               T\u239f                \n",
        " \u22c5\\mathbf{U}_{2}\u22c5(\u03bb_K\u22c5I + \\mathbf{\\Lambda})  \u22c5\\mathbf{U}_{1} \u23a0\u22c5\\mathbf{Y}_{11}\n",
        "\n",
        " \u239b                                                                            \n",
        " \u239c                                        -1               T                  \n",
        "\u22c5\u239d\\mathbf{V}_{1}\u22c5(\u03bb_G\u22c5I + \\mathbf{\\Sigma})  \u22c5\\mathbf{V}_{1}  + -\\mathbf{V}_{1}\n",
        "\n",
        "                                                                              \n",
        "                          -1               T \u239b                                \n",
        "\u22c5(\u03bb_G\u22c5I + \\mathbf{\\Sigma})  \u22c5\\mathbf{V}_{2} \u22c5\u239d\\mathbf{V}_{2}\u22c5(\u03bb_G\u22c5I + \\mathbf{\n",
        "\n",
        "                           -1                                                 \n",
        "        -1               T\u239e                                           -1      \n",
        "\\Sigma})  \u22c5\\mathbf{V}_{2} \u23a0  \u22c5\\mathbf{V}_{2}\u22c5(\u03bb_G\u22c5I + \\mathbf{\\Sigma})  \u22c5\\math\n",
        "\n",
        "          \u239e                                               \n",
        "         T\u239f                                              T\n",
        "bf{V}_{1} \u23a0\u22c5\\mathbf{V}_{1}\u22c5\\mathbf{\\Sigma}\u22c5\\mathbf{V}_{2} "
       ]
      }
     ],
     "prompt_number": 21
    },
    {
     "cell_type": "code",
     "collapsed": false,
     "input": [],
     "language": "python",
     "metadata": {},
     "outputs": [],
     "prompt_number": 21
    }
   ],
   "metadata": {}
  }
 ]
}