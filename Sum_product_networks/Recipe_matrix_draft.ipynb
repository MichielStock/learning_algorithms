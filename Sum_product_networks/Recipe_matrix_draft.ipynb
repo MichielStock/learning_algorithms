{
 "metadata": {
  "name": "",
  "signature": "sha256:703f2e4d751a4ba6e61c49567a32cda0a54603340e7ee302638338aacc5be091"
 },
 "nbformat": 3,
 "nbformat_minor": 0,
 "worksheets": [
  {
   "cells": [
    {
     "cell_type": "code",
     "collapsed": false,
     "input": [
      "import numpy as np\n",
      "import random as rd\n",
      "import theano\n",
      "import theano.tensor as T"
     ],
     "language": "python",
     "metadata": {},
     "outputs": [],
     "prompt_number": 26
    },
    {
     "cell_type": "code",
     "collapsed": false,
     "input": [
      "from itertools import chain\n",
      "\n",
      "def nested_partions(indices, n_combinations):\n",
      "    \"\"\"\n",
      "    Returns a random nested partion over a dataset\n",
      "    \"\"\"\n",
      "    n_ind = len(indices)\n",
      "    if n_ind <= n_combinations:\n",
      "        return indices\n",
      "    else:\n",
      "        rd.shuffle(indices)\n",
      "        return [nested_partions(indices[i*n_ind/n_combinations:(i + 1)*n_ind/n_combinations], n_combinations) for i in range(n_combinations)]\n",
      "   \n",
      "def unlist(nested_list):\n",
      "    unlisted_list = list(chain(*nested_list))\n",
      "    if type(unlisted_list[0]) == list:\n",
      "        return unlist(unlisted_list)\n",
      "    else:\n",
      "        return unlisted_list\n",
      "    \n",
      "def count_nodes(tree, depth):\n",
      "    \"\"\"\n",
      "    Counts number of inner nodes at a certain depth\n",
      "    \"\"\"\n",
      "    if depth == 0:  # root\n",
      "        return 1\n",
      "    else:\n",
      "        return sum( [ count_nodes(subtree, depth - 1) for subtree in tree ] )\n",
      "    \n",
      "def subleafs(tree, depth):\n",
      "    \"\"\"\n",
      "    returns the subleaves sorted according to a given node\n",
      "    \"\"\"\n",
      "    if depth == 0:\n",
      "        return tree\n",
      "    else:\n",
      "        return list(chain(*[subleafs(subtree, depth - 1) for subtree in tree]))"
     ],
     "language": "python",
     "metadata": {},
     "outputs": [],
     "prompt_number": 178
    },
    {
     "cell_type": "code",
     "collapsed": false,
     "input": [
      "nest_part = nested_partions(range(15), 3)\n",
      "nest_part"
     ],
     "language": "python",
     "metadata": {},
     "outputs": [
      {
       "metadata": {},
       "output_type": "pyout",
       "prompt_number": 169,
       "text": [
        "[[[3], [0, 9], [13, 7]], [[6], [8, 5], [12, 10]], [[11], [1, 14], [2, 4]]]"
       ]
      }
     ],
     "prompt_number": 169
    },
    {
     "cell_type": "code",
     "collapsed": false,
     "input": [
      "subleafs(nest_part, 1)"
     ],
     "language": "python",
     "metadata": {},
     "outputs": [
      {
       "metadata": {},
       "output_type": "pyout",
       "prompt_number": 183,
       "text": [
        "[[3], [0, 9], [13, 7], [6], [8, 5], [12, 10], [11], [1, 14], [2, 4]]"
       ]
      }
     ],
     "prompt_number": 183
    },
    {
     "cell_type": "code",
     "collapsed": false,
     "input": [
      "X = np.random.binomial(1, 0.2, (50000, 81))\n",
      "n_obs, n_vars = X.shape"
     ],
     "language": "python",
     "metadata": {},
     "outputs": [],
     "prompt_number": 203
    },
    {
     "cell_type": "code",
     "collapsed": false,
     "input": [
      "X"
     ],
     "language": "python",
     "metadata": {},
     "outputs": [
      {
       "metadata": {},
       "output_type": "pyout",
       "prompt_number": 204,
       "text": [
        "array([[0, 0, 1, ..., 0, 0, 0],\n",
        "       [0, 1, 1, ..., 0, 0, 0],\n",
        "       [0, 0, 0, ..., 1, 1, 0],\n",
        "       ..., \n",
        "       [1, 1, 0, ..., 1, 0, 0],\n",
        "       [0, 0, 0, ..., 0, 0, 0],\n",
        "       [1, 0, 0, ..., 1, 0, 0]])"
       ]
      }
     ],
     "prompt_number": 204
    },
    {
     "cell_type": "code",
     "collapsed": false,
     "input": [
      "n_representation = 5\n",
      "parameters = theano.shared(np.random.randn(n_representation, n_vars))"
     ],
     "language": "python",
     "metadata": {},
     "outputs": [],
     "prompt_number": 205
    },
    {
     "cell_type": "code",
     "collapsed": false,
     "input": [
      "x = T.drow('x')"
     ],
     "language": "python",
     "metadata": {},
     "outputs": [],
     "prompt_number": 206
    },
    {
     "cell_type": "code",
     "collapsed": false,
     "input": [
      "p_values = T.nnet.sigmoid(parameters)\n",
      "log_pdf_values = T.log(p_values/(1.0 - p_values)) * x + T.log(1.0 - p_values)"
     ],
     "language": "python",
     "metadata": {},
     "outputs": [],
     "prompt_number": 207
    },
    {
     "cell_type": "code",
     "collapsed": false,
     "input": [
      "topologies = [nested_partions(range(n_vars), 3) for i in range(2)]\n",
      "prod_ind = subleafs(topologies[0], 2)\n",
      "prod_layer = T.concatenate([T.sum(log_pdf_values[:, ind], axis=1, keepdims=True) for ind in prod_ind], axis=1)\n",
      "#prod_layer = [T.sum(log_pdf_values[:, ind], axis=1, keepdims=True) for ind in prod_ind]\n",
      "show = theano.function([x], prod_layer)\n",
      "show(X[[[0]]])"
     ],
     "language": "python",
     "metadata": {},
     "outputs": [
      {
       "output_type": "stream",
       "stream": "stderr",
       "text": [
        "INFO (theano.gof.compilelock): Refreshing lock /Users/michielstock/.theano/compiledir_Darwin-13.4.0-x86_64-i386-64bit-i386-2.7.6-64/lock_dir/lock\n"
       ]
      },
      {
       "output_type": "stream",
       "stream": "stderr",
       "text": [
        "INFO:theano.gof.compilelock:Refreshing lock /Users/michielstock/.theano/compiledir_Darwin-13.4.0-x86_64-i386-64bit-i386-2.7.6-64/lock_dir/lock\n"
       ]
      },
      {
       "metadata": {},
       "output_type": "pyout",
       "prompt_number": 212,
       "text": [
        "array([[-1.87227803, -3.61462897, -1.49918709, -4.43298285, -2.38636151,\n",
        "        -2.46799943, -2.67090226, -3.0797632 , -2.77380666, -2.83832318,\n",
        "        -3.2988478 , -2.18204747, -3.25064533, -3.57795338, -2.08219581,\n",
        "        -2.01776236, -2.74238189, -2.69349812, -1.71141767, -1.89063528,\n",
        "        -1.19103173, -3.77739599, -2.22201774, -1.47937962, -2.22102331,\n",
        "        -2.26287835, -0.84719352],\n",
        "       [-2.16042323, -1.57727634, -1.49558247, -2.94169177, -2.20934348,\n",
        "        -5.11555584, -3.37289912, -3.05133538, -2.25821546, -2.97623403,\n",
        "        -2.44236894, -3.20016714, -2.12940503, -2.32322917, -1.82032907,\n",
        "        -1.39921005, -1.81395709, -5.02760955, -2.53803376, -3.65126964,\n",
        "        -3.3104127 , -3.2597294 , -1.71066251, -2.33657184, -3.53351737,\n",
        "        -1.20064736, -1.60143291],\n",
        "       [-2.74935392, -1.27637495, -2.34657901, -2.7935275 , -2.43445218,\n",
        "        -3.51574991, -3.24089841, -1.93114685, -2.24089992, -0.93859813,\n",
        "        -1.43868564, -1.10205044, -1.26676192, -2.01662264, -3.74812757,\n",
        "        -1.0257845 , -3.44383763, -2.75216656, -1.98413637, -0.91308157,\n",
        "        -2.88507286, -2.32830521, -1.98884764, -1.46818564, -3.30792896,\n",
        "        -1.92710698, -0.91789401],\n",
        "       [-1.7496069 , -2.71785155, -3.14453146, -3.16214508, -3.1279057 ,\n",
        "        -1.62574109, -2.0991551 , -3.1017645 , -2.68624705, -2.76683936,\n",
        "        -2.36556967, -2.88653647, -1.48807847, -3.6896106 , -1.99632328,\n",
        "        -3.48500385, -0.9923501 , -3.24350836, -1.11870466, -1.97948615,\n",
        "        -2.87855493, -1.66938707, -1.74827434, -2.91581831, -1.85382438,\n",
        "        -4.95347338, -0.68209041],\n",
        "       [-2.21637719, -1.43474238, -1.58460418, -2.72853455, -1.5721049 ,\n",
        "        -2.97871574, -2.66877706, -2.00828928, -4.07947249, -4.94420099,\n",
        "        -2.65052041, -5.7641814 , -2.16324652, -1.43454552, -2.14434028,\n",
        "        -1.92581828, -1.12431964, -2.52624841, -2.12709612, -3.0778711 ,\n",
        "        -1.61238342, -1.27031768, -2.72386007, -2.54866301, -2.72977977,\n",
        "        -2.53209276, -3.77470493]])"
       ]
      }
     ],
     "prompt_number": 212
    },
    {
     "cell_type": "code",
     "collapsed": false,
     "input": [
      "show(X[[1]])"
     ],
     "language": "python",
     "metadata": {},
     "outputs": [
      {
       "metadata": {},
       "output_type": "pyout",
       "prompt_number": 215,
       "text": [
        "array([[-2.67469003, -1.9339788 , -1.49918709, -2.01212974, -2.8464123 ,\n",
        "        -2.46799943, -2.67090226, -2.49526101, -2.0805927 , -2.83832318,\n",
        "        -3.2988478 , -2.18204747, -2.99363136, -3.57795338, -2.09936805,\n",
        "        -2.79590961, -3.23091728, -2.69349812, -1.82638515, -1.21428319,\n",
        "        -1.41226474, -2.05246736, -2.5197256 , -1.47937962, -1.59448515,\n",
        "        -3.00063649, -3.35676055],\n",
        "       [-1.78646092, -2.86630838, -1.49558247, -3.90927761, -2.04102073,\n",
        "        -5.11555584, -3.37289912, -2.51149492, -3.03064573, -2.97623403,\n",
        "        -2.44236894, -3.20016714, -2.46467342, -2.32322917, -1.73685619,\n",
        "        -2.86837087, -2.26515928, -5.02760955, -2.618777  , -1.93329142,\n",
        "        -1.67717664, -2.88300752, -2.54556846, -2.33657184, -2.630875  ,\n",
        "        -3.60530941, -1.94552817],\n",
        "       [-5.0809981 , -1.83971933, -2.34657901, -5.10303516, -2.1178624 ,\n",
        "        -3.51574991, -3.24089841, -1.1968134 , -3.07165012, -0.93859813,\n",
        "        -1.43868564, -1.10205044, -1.6106784 , -2.01662264, -3.01060465,\n",
        "        -3.13901923, -2.48324449, -2.75216656, -2.6657265 , -3.05548614,\n",
        "        -2.29227643, -1.98768213, -2.5064181 , -1.46818564, -1.52330499,\n",
        "        -2.34994623, -1.47586689],\n",
        "       [-1.72566492, -2.30648384, -3.14453146, -1.26073009, -1.39674808,\n",
        "        -1.62574109, -2.0991551 , -3.56122778, -3.39027839, -2.76683936,\n",
        "        -2.36556967, -2.88653647, -2.13072039, -3.6896106 , -1.90940871,\n",
        "        -3.11222098, -1.53630518, -3.24350836, -2.94812442, -1.86729533,\n",
        "        -3.63738785, -3.09242692, -2.71021591, -2.91581831, -2.04719709,\n",
        "        -2.96547274, -2.2880984 ],\n",
        "       [-2.05932255, -2.46266062, -1.58460418, -2.59567853, -2.69563197,\n",
        "        -2.97871574, -2.66877706, -2.18659321, -2.98279455, -4.94420099,\n",
        "        -2.65052041, -5.7641814 , -1.82151923, -1.43454552, -2.22801926,\n",
        "        -2.06317362, -2.82993352, -2.52624841, -2.28345744, -1.01836216,\n",
        "        -1.33882386, -2.25851258, -2.20631282, -2.54866301, -5.13149955,\n",
        "        -1.59323374, -2.28707426]])"
       ]
      }
     ],
     "prompt_number": 215
    },
    {
     "cell_type": "code",
     "collapsed": false,
     "input": [
      "class SumProductNetwork:\n",
      "    def __init__(self, log_pdf_values, topologies, n_components=5):\n",
      "        n_topologies = len(topologies)\n",
      "        # first parameters\n",
      "        self._parameters = [theano.shared(np.random.randn(n_topologies))]\n",
      "        # make subl\n",
      "        subtree = topologies[0]  # consider one tree, others are similar\n",
      "        depth = 0\n",
      "        while type(subtree[0]) == list:\n",
      "            depth += 1\n",
      "            n_combinations = count_nodes(topologies[0], depth)\n",
      "            par = theano.shared(np.random.randn(n_components, n_combinations, n_topologies))\n",
      "            self._parameters.append(par)\n",
      "            subtree = subtree[0]\n",
      "        # now join from leaves to root\n",
      "        for top_nr, topology in enumerate(topologies):\n",
      "            indices_prod = subleafs(topology, depth)\n",
      "            prod_layer_1 = T.sum(log_pdf_values[:, ])"
     ],
     "language": "python",
     "metadata": {},
     "outputs": [],
     "prompt_number": 209
    },
    {
     "cell_type": "code",
     "collapsed": false,
     "input": [
      "spn = SumProductNetwork(log_pdf_values, [nested_partions(range(n_vars), 4) for i in range(2)])\n",
      "spn._parameters subleafs"
     ],
     "language": "python",
     "metadata": {},
     "outputs": [
      {
       "output_type": "stream",
       "stream": "stdout",
       "text": [
        "1\n",
        "2\n",
        "3\n",
        "4\n",
        "5\n",
        "6\n",
        "7\n"
       ]
      },
      {
       "metadata": {},
       "output_type": "pyout",
       "prompt_number": 189,
       "text": [
        "[<TensorType(float64, vector)>,\n",
        " <TensorType(float64, 3D)>,\n",
        " <TensorType(float64, 3D)>,\n",
        " <TensorType(float64, 3D)>,\n",
        " <TensorType(float64, 3D)>,\n",
        " <TensorType(float64, 3D)>,\n",
        " <TensorType(float64, 3D)>,\n",
        " <TensorType(float64, 3D)>]"
       ]
      }
     ],
     "prompt_number": 189
    },
    {
     "cell_type": "code",
     "collapsed": false,
     "input": [
      "[nested_partions(range(n_vars), 2) for i in range(2)]"
     ],
     "language": "python",
     "metadata": {},
     "outputs": [
      {
       "metadata": {},
       "output_type": "pyout",
       "prompt_number": 186,
       "text": [
        "[[[[[[[[[371, 215], [[213], [90, 96]]],\n",
        "       [[[251], [187, 349]], [[76], [192, 65]]]],\n",
        "      [[[[278], [208, 32]], [[146], [89, 237]]],\n",
        "       [[[35], [206, 326]], [[59], [124, 53]]]]],\n",
        "     [[[[[193], [165, 308]], [[52], [8, 118]]],\n",
        "       [[[351], [338, 28]], [[347], [286, 68]]]],\n",
        "      [[[[129], [73, 259]], [[203], [179, 232]]],\n",
        "       [[[313], [316, 361]], [[66], [353, 125]]]]]],\n",
        "    [[[[[[370], [3, 246]], [[333], [107, 269]]],\n",
        "       [[[365], [15, 191]], [[154], [2, 132]]]],\n",
        "      [[[[37], [364, 310]], [[205], [77, 126]]],\n",
        "       [[[86], [352, 9]], [[309], [23, 258]]]]],\n",
        "     [[[[[257], [254, 167]], [[287], [334, 24]]],\n",
        "       [[[318], [319, 355]], [[359], [122, 26]]]],\n",
        "      [[[[276], [196, 297]], [[55], [27, 268]]],\n",
        "       [[[49], [360, 241]], [[106], [178, 169]]]]]]],\n",
        "   [[[[[[327, 164], [[284], [209, 18]]],\n",
        "       [[[218], [64, 362]], [[88], [87, 220]]]],\n",
        "      [[[[322], [312, 329]], [[54], [212, 369]]],\n",
        "       [[[112], [260, 166]], [[274], [184, 127]]]]],\n",
        "     [[[[[350], [199, 135]], [[70], [139, 81]]],\n",
        "       [[[161], [301, 262]], [[373], [311, 227]]]],\n",
        "      [[[[93], [272, 99]], [[267], [14, 315]]],\n",
        "       [[[144], [172, 69]], [[95], [342, 79]]]]]],\n",
        "    [[[[[[290], [151, 304]], [[231], [221, 270]]],\n",
        "       [[[5], [30, 279]], [[130], [120, 264]]]],\n",
        "      [[[[162], [181, 247]], [[39], [228, 357]]],\n",
        "       [[[283], [72, 280]], [[176], [248, 115]]]]],\n",
        "     [[[[[143], [75, 56]], [[177], [366, 223]]],\n",
        "       [[[142], [292, 307]], [[4], [17, 121]]]],\n",
        "      [[[[233], [273, 201]], [[235], [379, 249]]],\n",
        "       [[[198], [180, 293]], [[80], [19, 83]]]]]]]],\n",
        "  [[[[[[[337, 321], [[48], [238, 159]]],\n",
        "       [[[102], [147, 40]], [[103], [204, 157]]]],\n",
        "      [[[[137], [155, 22]], [[261], [175, 43]]],\n",
        "       [[[363], [277, 222]], [[256], [265, 195]]]]],\n",
        "     [[[[[85], [335, 128]], [[13], [343, 174]]],\n",
        "       [[[44], [10, 243]], [[219], [94, 46]]]],\n",
        "      [[[[339], [230, 294]], [[224], [6, 62]]],\n",
        "       [[[91], [34, 188]], [[57], [109, 356]]]]]],\n",
        "    [[[[[[255], [170, 140]], [[226], [38, 98]]],\n",
        "       [[[60], [323, 302]], [[173], [346, 50]]]],\n",
        "      [[[[182], [100, 299]], [[78], [134, 104]]],\n",
        "       [[[288], [210, 20]], [[138], [328, 153]]]]],\n",
        "     [[[[[149], [291, 31]], [[376], [7, 331]]],\n",
        "       [[[171], [234, 71]], [[160], [225, 332]]]],\n",
        "      [[[[303], [239, 253]], [[21], [42, 217]]],\n",
        "       [[[168], [282, 114]], [[113], [252, 133]]]]]]],\n",
        "   [[[[[[[74], [141, 145]], [[123], [67, 250]]],\n",
        "       [[[131], [344, 380]], [[275], [345, 236]]]],\n",
        "      [[[[45], [266, 47]], [[354], [317, 314]]],\n",
        "       [[[186], [324, 214]], [[189], [150, 200]]]]],\n",
        "     [[[[[111], [12, 163]], [[341], [29, 305]]],\n",
        "       [[[136], [156, 330]], [[116], [101, 216]]]],\n",
        "      [[[[105], [244, 242]], [[374], [51, 295]]],\n",
        "       [[[0], [229, 336]], [[377], [1, 296]]]]]],\n",
        "    [[[[[[240], [325, 375]], [[285], [117, 194]]],\n",
        "       [[[190], [289, 183]], [[16], [33, 281]]]],\n",
        "      [[[[97], [82, 197]], [[320], [271, 367]]],\n",
        "       [[[36], [340, 358]], [[58], [148, 158]]]]],\n",
        "     [[[[[63], [185, 245]], [[25], [378, 202]]],\n",
        "       [[[41], [263, 207]], [[108], [372, 11]]]],\n",
        "      [[[[298], [152, 368]], [[306], [61, 92]]],\n",
        "       [[[300], [110, 84]], [[119], [211, 348]]]]]]]]],\n",
        " [[[[[[[[315, 128], [[213], [198, 349]]],\n",
        "       [[[190], [74, 192]], [[6], [332, 235]]]],\n",
        "      [[[[81], [99, 38]], [[56], [231, 252]]],\n",
        "       [[[170], [144, 306]], [[365], [285, 37]]]]],\n",
        "     [[[[[341], [226, 355]], [[336], [161, 34]]],\n",
        "       [[[66], [205, 65]], [[82], [89, 352]]]],\n",
        "      [[[[210], [164, 86]], [[90], [344, 59]]],\n",
        "       [[[12], [168, 151]], [[156], [30, 83]]]]]],\n",
        "    [[[[[[98], [266, 76]], [[171], [10, 104]]],\n",
        "       [[[137], [286, 188]], [[203], [31, 57]]]],\n",
        "      [[[[14], [85, 212]], [[322], [248, 93]]],\n",
        "       [[[46], [142, 75]], [[77], [53, 145]]]]],\n",
        "     [[[[[260], [92, 369]], [[297], [237, 23]]],\n",
        "       [[[94], [308, 35]], [[68], [333, 262]]]],\n",
        "      [[[[263], [215, 325]], [[7], [26, 353]]],\n",
        "       [[[87], [136, 275]], [[184], [21, 241]]]]]]],\n",
        "   [[[[[[272, 149], [[167], [259, 147]]],\n",
        "       [[[189], [169, 300]], [[343], [78, 54]]]],\n",
        "      [[[[362], [283, 196]], [[32], [227, 258]]],\n",
        "       [[[103], [251, 288]], [[121], [72, 238]]]]],\n",
        "     [[[[[208], [181, 29]], [[39], [154, 314]]],\n",
        "       [[[356], [298, 326]], [[316], [342, 209]]]],\n",
        "      [[[[113], [40, 368]], [[5], [261, 207]]],\n",
        "       [[[135], [309, 176]], [[281], [27, 119]]]]]],\n",
        "    [[[[[[337], [339, 371]], [[17], [140, 202]]],\n",
        "       [[[97], [318, 317]], [[9], [219, 214]]]],\n",
        "      [[[[250], [307, 366]], [[218], [293, 264]]],\n",
        "       [[[305], [377, 370]], [[274], [4, 138]]]]],\n",
        "     [[[[[243], [257, 376]], [[118], [321, 312]]],\n",
        "       [[[284], [120, 194]], [[280], [107, 206]]]],\n",
        "      [[[[153], [270, 301]], [[42], [174, 177]]],\n",
        "       [[[271], [133, 28]], [[338], [139, 249]]]]]]]],\n",
        "  [[[[[[[269, 228], [[320], [224, 201]]],\n",
        "       [[[330], [360, 47]], [[290], [302, 345]]]],\n",
        "      [[[[50], [160, 357]], [[354], [131, 303]]],\n",
        "       [[[158], [173, 253]], [[123], [244, 116]]]]],\n",
        "     [[[[[105], [247, 374]], [[230], [279, 18]]],\n",
        "       [[[291], [33, 62]], [[328], [236, 304]]]],\n",
        "      [[[[141], [268, 359]], [[91], [126, 276]]],\n",
        "       [[[254], [52, 311]], [[127], [223, 379]]]]]],\n",
        "    [[[[[[122], [2, 108]], [[340], [175, 310]]],\n",
        "       [[[0], [367, 43]], [[211], [155, 13]]]],\n",
        "      [[[[61], [129, 157]], [[63], [265, 334]]],\n",
        "       [[[234], [172, 242]], [[109], [363, 282]]]]],\n",
        "     [[[[[375], [245, 327]], [[45], [70, 278]]],\n",
        "       [[[273], [335, 361]], [[112], [80, 289]]]],\n",
        "      [[[[313], [60, 240]], [[220], [323, 350]]],\n",
        "       [[[114], [3, 102]], [[117], [225, 143]]]]]]],\n",
        "   [[[[[[[150], [197, 183]], [[163], [146, 229]]],\n",
        "       [[[295], [11, 101]], [[24], [180, 15]]]],\n",
        "      [[[[178], [319, 217]], [[124], [348, 130]]],\n",
        "       [[[22], [84, 166]], [[193], [187, 216]]]]],\n",
        "     [[[[[69], [106, 148]], [[73], [179, 200]]],\n",
        "       [[[41], [79, 152]], [[292], [222, 296]]]],\n",
        "      [[[[239], [67, 71]], [[233], [204, 329]]],\n",
        "       [[[58], [277, 1]], [[95], [221, 134]]]]]],\n",
        "    [[[[[[51], [331, 255]], [[372], [159, 19]]],\n",
        "       [[[182], [199, 96]], [[25], [111, 364]]]],\n",
        "      [[[[115], [64, 346]], [[16], [55, 378]]],\n",
        "       [[[232], [48, 287]], [[267], [324, 351]]]]],\n",
        "     [[[[[132], [162, 347]], [[195], [246, 185]]],\n",
        "       [[[294], [125, 100]], [[165], [299, 44]]]],\n",
        "      [[[[373], [191, 186]], [[380], [36, 256]]],\n",
        "       [[[88], [110, 358]], [[49], [8, 20]]]]]]]]]]"
       ]
      }
     ],
     "prompt_number": 186
    },
    {
     "cell_type": "code",
     "collapsed": false,
     "input": [
      "class TestClass:\n",
      "    def __init__(self):\n",
      "       return self.function()\n",
      "    \n",
      "    def function(self):\n",
      "        print 'kupo'\n",
      "        \n",
      "test_class = TestClass()"
     ],
     "language": "python",
     "metadata": {},
     "outputs": [
      {
       "output_type": "stream",
       "stream": "stdout",
       "text": [
        "kupo\n"
       ]
      }
     ],
     "prompt_number": 62
    },
    {
     "cell_type": "code",
     "collapsed": false,
     "input": [
      "test_class.function()"
     ],
     "language": "python",
     "metadata": {},
     "outputs": [
      {
       "output_type": "stream",
       "stream": "stdout",
       "text": [
        "kupo\n"
       ]
      }
     ],
     "prompt_number": 63
    },
    {
     "cell_type": "code",
     "collapsed": false,
     "input": [
      "A[:, (2, 0)]"
     ],
     "language": "python",
     "metadata": {},
     "outputs": [
      {
       "metadata": {},
       "output_type": "pyout",
       "prompt_number": 79,
       "text": [
        "array([[ 0.22524039,  0.9458879 ],\n",
        "       [ 1.40119235, -1.02318985],\n",
        "       [ 0.84450859, -0.8999511 ],\n",
        "       [ 1.73265648,  0.94386381],\n",
        "       [ 0.61673839, -0.26475079]])"
       ]
      }
     ],
     "prompt_number": 79
    },
    {
     "cell_type": "code",
     "collapsed": false,
     "input": [
      "choices = [[0, 1, 2, 3], [10, 11, 12, 13],[20, 21, 22, 23], [30, 31, 32, 33]]\n",
      "np.choose([2, 3, 1, 0], choices)"
     ],
     "language": "python",
     "metadata": {},
     "outputs": [
      {
       "metadata": {},
       "output_type": "pyout",
       "prompt_number": 73,
       "text": [
        "array([20, 31, 12,  3])"
       ]
      }
     ],
     "prompt_number": 73
    },
    {
     "cell_type": "code",
     "collapsed": false,
     "input": [
      "A = np.random.randn(5, 4)\n",
      "A"
     ],
     "language": "python",
     "metadata": {},
     "outputs": [
      {
       "metadata": {},
       "output_type": "pyout",
       "prompt_number": 78,
       "text": [
        "array([[ 0.9458879 ,  0.77436583,  0.22524039, -0.75030523],\n",
        "       [-1.02318985,  2.27275481,  1.40119235, -0.01381416],\n",
        "       [-0.8999511 , -1.66783746,  0.84450859,  0.23870213],\n",
        "       [ 0.94386381, -0.63801739,  1.73265648, -0.25775831],\n",
        "       [-0.26475079,  1.34351397,  0.61673839,  1.29552322]])"
       ]
      }
     ],
     "prompt_number": 78
    },
    {
     "cell_type": "code",
     "collapsed": false,
     "input": [
      "[n for n in chain(nested_partions)]"
     ],
     "language": "python",
     "metadata": {},
     "outputs": [
      {
       "ename": "TypeError",
       "evalue": "'function' object is not iterable",
       "output_type": "pyerr",
       "traceback": [
        "\u001b[0;31m---------------------------------------------------------------------------\u001b[0m\n\u001b[0;31mTypeError\u001b[0m                                 Traceback (most recent call last)",
        "\u001b[0;32m<ipython-input-129-9a2e056e2f53>\u001b[0m in \u001b[0;36m<module>\u001b[0;34m()\u001b[0m\n\u001b[0;32m----> 1\u001b[0;31m \u001b[0;34m[\u001b[0m\u001b[0mn\u001b[0m \u001b[0;32mfor\u001b[0m \u001b[0mn\u001b[0m \u001b[0;32min\u001b[0m \u001b[0mchain\u001b[0m\u001b[0;34m(\u001b[0m\u001b[0mnested_partions\u001b[0m\u001b[0;34m)\u001b[0m\u001b[0;34m]\u001b[0m\u001b[0;34m\u001b[0m\u001b[0m\n\u001b[0m",
        "\u001b[0;31mTypeError\u001b[0m: 'function' object is not iterable"
       ]
      }
     ],
     "prompt_number": 129
    },
    {
     "cell_type": "code",
     "collapsed": false,
     "input": [
      "chain(nested_partions)"
     ],
     "language": "python",
     "metadata": {},
     "outputs": [
      {
       "metadata": {},
       "output_type": "pyout",
       "prompt_number": 130,
       "text": [
        "<itertools.chain at 0x1222f4050>"
       ]
      }
     ],
     "prompt_number": 130
    },
    {
     "cell_type": "code",
     "collapsed": false,
     "input": [
      "for n in list(chain(*nest_part)):\n",
      "    print n"
     ],
     "language": "python",
     "metadata": {},
     "outputs": [
      {
       "output_type": "stream",
       "stream": "stdout",
       "text": [
        "[0]\n",
        "[7, 2]\n",
        "[8, 6]\n",
        "[11]\n",
        "[3, 5]\n",
        "[13, 14]\n",
        "[12]\n",
        "[10, 4]\n",
        "[1, 9]\n"
       ]
      }
     ],
     "prompt_number": 140
    },
    {
     "cell_type": "code",
     "collapsed": false,
     "input": [
      "list(chain(*nest_part))"
     ],
     "language": "python",
     "metadata": {},
     "outputs": [
      {
       "metadata": {},
       "output_type": "pyout",
       "prompt_number": 141,
       "text": [
        "[[0], [7, 2], [8, 6], [11], [3, 5], [13, 14], [12], [10, 4], [1, 9]]"
       ]
      }
     ],
     "prompt_number": 141
    },
    {
     "cell_type": "code",
     "collapsed": false,
     "input": [
      "T.concatenate?"
     ],
     "language": "python",
     "metadata": {},
     "outputs": [],
     "prompt_number": 145
    },
    {
     "cell_type": "code",
     "collapsed": false,
     "input": [
      "for i in reversed(range(10)):\n",
      "    print i\n"
     ],
     "language": "python",
     "metadata": {},
     "outputs": [
      {
       "output_type": "stream",
       "stream": "stdout",
       "text": [
        "9\n",
        "8\n",
        "7\n",
        "6\n",
        "5\n",
        "4\n",
        "3\n",
        "2\n",
        "1\n",
        "0\n"
       ]
      }
     ],
     "prompt_number": 188
    },
    {
     "cell_type": "code",
     "collapsed": false,
     "input": [],
     "language": "python",
     "metadata": {},
     "outputs": []
    }
   ],
   "metadata": {}
  }
 ]
}